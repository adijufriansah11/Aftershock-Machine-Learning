{
 "cells": [
  {
   "cell_type": "code",
   "execution_count": 1,
   "metadata": {
    "id": "jFx3XzOf7ZYh"
   },
   "outputs": [],
   "source": [
    "import numpy as np\n",
    "import pandas as pd\n",
    "import matplotlib.pyplot as plt"
   ]
  },
  {
   "cell_type": "code",
   "execution_count": 22,
   "metadata": {
    "colab": {
     "base_uri": "https://localhost:8080/",
     "height": 204
    },
    "id": "BAQz-58O7h5C",
    "outputId": "e76faab2-4c25-4bae-9556-2162238c7c94"
   },
   "outputs": [
    {
     "data": {
      "text/html": [
       "\n",
       "  <div id=\"df-34f0fb99-33b8-4fe8-9220-36ce4c285317\">\n",
       "    <div class=\"colab-df-container\">\n",
       "      <div>\n",
       "<style scoped>\n",
       "    .dataframe tbody tr th:only-of-type {\n",
       "        vertical-align: middle;\n",
       "    }\n",
       "\n",
       "    .dataframe tbody tr th {\n",
       "        vertical-align: top;\n",
       "    }\n",
       "\n",
       "    .dataframe thead th {\n",
       "        text-align: right;\n",
       "    }\n",
       "</style>\n",
       "<table border=\"1\" class=\"dataframe\">\n",
       "  <thead>\n",
       "    <tr style=\"text-align: right;\">\n",
       "      <th></th>\n",
       "      <th>Date</th>\n",
       "      <th>Time</th>\n",
       "      <th>Latitude</th>\n",
       "      <th>Longitude</th>\n",
       "      <th>Depth</th>\n",
       "      <th>Magnitude</th>\n",
       "    </tr>\n",
       "  </thead>\n",
       "  <tbody>\n",
       "    <tr>\n",
       "      <th>0</th>\n",
       "      <td>12/12/2021</td>\n",
       "      <td>14:04:36</td>\n",
       "      <td>-8.55</td>\n",
       "      <td>121.91842</td>\n",
       "      <td>10.0</td>\n",
       "      <td>3.34</td>\n",
       "    </tr>\n",
       "    <tr>\n",
       "      <th>1</th>\n",
       "      <td>12/14/2021</td>\n",
       "      <td>23:50:01</td>\n",
       "      <td>-7.53</td>\n",
       "      <td>121.58232</td>\n",
       "      <td>10.0</td>\n",
       "      <td>3.11</td>\n",
       "    </tr>\n",
       "    <tr>\n",
       "      <th>2</th>\n",
       "      <td>12/14/2021</td>\n",
       "      <td>23:42:19</td>\n",
       "      <td>-7.36</td>\n",
       "      <td>121.23427</td>\n",
       "      <td>15.0</td>\n",
       "      <td>2.58</td>\n",
       "    </tr>\n",
       "    <tr>\n",
       "      <th>3</th>\n",
       "      <td>12/14/2021</td>\n",
       "      <td>23:32:43</td>\n",
       "      <td>-8.02</td>\n",
       "      <td>122.40597</td>\n",
       "      <td>10.0</td>\n",
       "      <td>3.41</td>\n",
       "    </tr>\n",
       "    <tr>\n",
       "      <th>4</th>\n",
       "      <td>12/14/2021</td>\n",
       "      <td>23:29:36</td>\n",
       "      <td>-7.51</td>\n",
       "      <td>121.63541</td>\n",
       "      <td>10.0</td>\n",
       "      <td>2.64</td>\n",
       "    </tr>\n",
       "  </tbody>\n",
       "</table>\n",
       "</div>\n",
       "      <button class=\"colab-df-convert\" onclick=\"convertToInteractive('df-34f0fb99-33b8-4fe8-9220-36ce4c285317')\"\n",
       "              title=\"Convert this dataframe to an interactive table.\"\n",
       "              style=\"display:none;\">\n",
       "        \n",
       "  <svg xmlns=\"http://www.w3.org/2000/svg\" height=\"24px\"viewBox=\"0 0 24 24\"\n",
       "       width=\"24px\">\n",
       "    <path d=\"M0 0h24v24H0V0z\" fill=\"none\"/>\n",
       "    <path d=\"M18.56 5.44l.94 2.06.94-2.06 2.06-.94-2.06-.94-.94-2.06-.94 2.06-2.06.94zm-11 1L8.5 8.5l.94-2.06 2.06-.94-2.06-.94L8.5 2.5l-.94 2.06-2.06.94zm10 10l.94 2.06.94-2.06 2.06-.94-2.06-.94-.94-2.06-.94 2.06-2.06.94z\"/><path d=\"M17.41 7.96l-1.37-1.37c-.4-.4-.92-.59-1.43-.59-.52 0-1.04.2-1.43.59L10.3 9.45l-7.72 7.72c-.78.78-.78 2.05 0 2.83L4 21.41c.39.39.9.59 1.41.59.51 0 1.02-.2 1.41-.59l7.78-7.78 2.81-2.81c.8-.78.8-2.07 0-2.86zM5.41 20L4 18.59l7.72-7.72 1.47 1.35L5.41 20z\"/>\n",
       "  </svg>\n",
       "      </button>\n",
       "      \n",
       "  <style>\n",
       "    .colab-df-container {\n",
       "      display:flex;\n",
       "      flex-wrap:wrap;\n",
       "      gap: 12px;\n",
       "    }\n",
       "\n",
       "    .colab-df-convert {\n",
       "      background-color: #E8F0FE;\n",
       "      border: none;\n",
       "      border-radius: 50%;\n",
       "      cursor: pointer;\n",
       "      display: none;\n",
       "      fill: #1967D2;\n",
       "      height: 32px;\n",
       "      padding: 0 0 0 0;\n",
       "      width: 32px;\n",
       "    }\n",
       "\n",
       "    .colab-df-convert:hover {\n",
       "      background-color: #E2EBFA;\n",
       "      box-shadow: 0px 1px 2px rgba(60, 64, 67, 0.3), 0px 1px 3px 1px rgba(60, 64, 67, 0.15);\n",
       "      fill: #174EA6;\n",
       "    }\n",
       "\n",
       "    [theme=dark] .colab-df-convert {\n",
       "      background-color: #3B4455;\n",
       "      fill: #D2E3FC;\n",
       "    }\n",
       "\n",
       "    [theme=dark] .colab-df-convert:hover {\n",
       "      background-color: #434B5C;\n",
       "      box-shadow: 0px 1px 3px 1px rgba(0, 0, 0, 0.15);\n",
       "      filter: drop-shadow(0px 1px 2px rgba(0, 0, 0, 0.3));\n",
       "      fill: #FFFFFF;\n",
       "    }\n",
       "  </style>\n",
       "\n",
       "      <script>\n",
       "        const buttonEl =\n",
       "          document.querySelector('#df-34f0fb99-33b8-4fe8-9220-36ce4c285317 button.colab-df-convert');\n",
       "        buttonEl.style.display =\n",
       "          google.colab.kernel.accessAllowed ? 'block' : 'none';\n",
       "\n",
       "        async function convertToInteractive(key) {\n",
       "          const element = document.querySelector('#df-34f0fb99-33b8-4fe8-9220-36ce4c285317');\n",
       "          const dataTable =\n",
       "            await google.colab.kernel.invokeFunction('convertToInteractive',\n",
       "                                                     [key], {});\n",
       "          if (!dataTable) return;\n",
       "\n",
       "          const docLinkHtml = 'Like what you see? Visit the ' +\n",
       "            '<a target=\"_blank\" href=https://colab.research.google.com/notebooks/data_table.ipynb>data table notebook</a>'\n",
       "            + ' to learn more about interactive tables.';\n",
       "          element.innerHTML = '';\n",
       "          dataTable['output_type'] = 'display_data';\n",
       "          await google.colab.output.renderOutput(dataTable, element);\n",
       "          const docLink = document.createElement('div');\n",
       "          docLink.innerHTML = docLinkHtml;\n",
       "          element.appendChild(docLink);\n",
       "        }\n",
       "      </script>\n",
       "    </div>\n",
       "  </div>\n",
       "  "
      ],
      "text/plain": [
       "         Date      Time  Latitude  Longitude  Depth  Magnitude\n",
       "0  12/12/2021  14:04:36     -8.55  121.91842   10.0       3.34\n",
       "1  12/14/2021  23:50:01     -7.53  121.58232   10.0       3.11\n",
       "2  12/14/2021  23:42:19     -7.36  121.23427   15.0       2.58\n",
       "3  12/14/2021  23:32:43     -8.02  122.40597   10.0       3.41\n",
       "4  12/14/2021  23:29:36     -7.51  121.63541   10.0       2.64"
      ]
     },
     "execution_count": 22,
     "metadata": {},
     "output_type": "execute_result"
    }
   ],
   "source": [
    "data = pd.read_csv('datagempa2_new.csv', names = ['Date','Time','Latitude','Longitude','Depth','Magnitude'])\n",
    "data.head()"
   ]
  },
  {
   "cell_type": "code",
   "execution_count": 23,
   "metadata": {
    "colab": {
     "base_uri": "https://localhost:8080/"
    },
    "id": "k66JlV8e7wco",
    "outputId": "0dec3025-7cac-49e0-9db0-427a0e6625e0"
   },
   "outputs": [
    {
     "data": {
      "text/plain": [
       "Index(['Date', 'Time', 'Latitude', 'Longitude', 'Depth', 'Magnitude'], dtype='object')"
      ]
     },
     "execution_count": 23,
     "metadata": {},
     "output_type": "execute_result"
    }
   ],
   "source": [
    "data.columns"
   ]
  },
  {
   "cell_type": "code",
   "execution_count": 24,
   "metadata": {
    "colab": {
     "base_uri": "https://localhost:8080/",
     "height": 204
    },
    "id": "-4Z5JrHY75wL",
    "outputId": "0026c527-c0d6-4138-df1d-09e73322b8b4"
   },
   "outputs": [
    {
     "data": {
      "text/html": [
       "\n",
       "  <div id=\"df-7d4a4d08-2a8c-40c2-ad19-8487190f35fe\">\n",
       "    <div class=\"colab-df-container\">\n",
       "      <div>\n",
       "<style scoped>\n",
       "    .dataframe tbody tr th:only-of-type {\n",
       "        vertical-align: middle;\n",
       "    }\n",
       "\n",
       "    .dataframe tbody tr th {\n",
       "        vertical-align: top;\n",
       "    }\n",
       "\n",
       "    .dataframe thead th {\n",
       "        text-align: right;\n",
       "    }\n",
       "</style>\n",
       "<table border=\"1\" class=\"dataframe\">\n",
       "  <thead>\n",
       "    <tr style=\"text-align: right;\">\n",
       "      <th></th>\n",
       "      <th>Date</th>\n",
       "      <th>Time</th>\n",
       "      <th>Latitude</th>\n",
       "      <th>Longitude</th>\n",
       "      <th>Depth</th>\n",
       "      <th>Magnitude</th>\n",
       "    </tr>\n",
       "  </thead>\n",
       "  <tbody>\n",
       "    <tr>\n",
       "      <th>0</th>\n",
       "      <td>12/12/2021</td>\n",
       "      <td>14:04:36</td>\n",
       "      <td>-8.55</td>\n",
       "      <td>121.91842</td>\n",
       "      <td>10.0</td>\n",
       "      <td>3.34</td>\n",
       "    </tr>\n",
       "    <tr>\n",
       "      <th>1</th>\n",
       "      <td>12/14/2021</td>\n",
       "      <td>23:50:01</td>\n",
       "      <td>-7.53</td>\n",
       "      <td>121.58232</td>\n",
       "      <td>10.0</td>\n",
       "      <td>3.11</td>\n",
       "    </tr>\n",
       "    <tr>\n",
       "      <th>2</th>\n",
       "      <td>12/14/2021</td>\n",
       "      <td>23:42:19</td>\n",
       "      <td>-7.36</td>\n",
       "      <td>121.23427</td>\n",
       "      <td>15.0</td>\n",
       "      <td>2.58</td>\n",
       "    </tr>\n",
       "    <tr>\n",
       "      <th>3</th>\n",
       "      <td>12/14/2021</td>\n",
       "      <td>23:32:43</td>\n",
       "      <td>-8.02</td>\n",
       "      <td>122.40597</td>\n",
       "      <td>10.0</td>\n",
       "      <td>3.41</td>\n",
       "    </tr>\n",
       "    <tr>\n",
       "      <th>4</th>\n",
       "      <td>12/14/2021</td>\n",
       "      <td>23:29:36</td>\n",
       "      <td>-7.51</td>\n",
       "      <td>121.63541</td>\n",
       "      <td>10.0</td>\n",
       "      <td>2.64</td>\n",
       "    </tr>\n",
       "  </tbody>\n",
       "</table>\n",
       "</div>\n",
       "      <button class=\"colab-df-convert\" onclick=\"convertToInteractive('df-7d4a4d08-2a8c-40c2-ad19-8487190f35fe')\"\n",
       "              title=\"Convert this dataframe to an interactive table.\"\n",
       "              style=\"display:none;\">\n",
       "        \n",
       "  <svg xmlns=\"http://www.w3.org/2000/svg\" height=\"24px\"viewBox=\"0 0 24 24\"\n",
       "       width=\"24px\">\n",
       "    <path d=\"M0 0h24v24H0V0z\" fill=\"none\"/>\n",
       "    <path d=\"M18.56 5.44l.94 2.06.94-2.06 2.06-.94-2.06-.94-.94-2.06-.94 2.06-2.06.94zm-11 1L8.5 8.5l.94-2.06 2.06-.94-2.06-.94L8.5 2.5l-.94 2.06-2.06.94zm10 10l.94 2.06.94-2.06 2.06-.94-2.06-.94-.94-2.06-.94 2.06-2.06.94z\"/><path d=\"M17.41 7.96l-1.37-1.37c-.4-.4-.92-.59-1.43-.59-.52 0-1.04.2-1.43.59L10.3 9.45l-7.72 7.72c-.78.78-.78 2.05 0 2.83L4 21.41c.39.39.9.59 1.41.59.51 0 1.02-.2 1.41-.59l7.78-7.78 2.81-2.81c.8-.78.8-2.07 0-2.86zM5.41 20L4 18.59l7.72-7.72 1.47 1.35L5.41 20z\"/>\n",
       "  </svg>\n",
       "      </button>\n",
       "      \n",
       "  <style>\n",
       "    .colab-df-container {\n",
       "      display:flex;\n",
       "      flex-wrap:wrap;\n",
       "      gap: 12px;\n",
       "    }\n",
       "\n",
       "    .colab-df-convert {\n",
       "      background-color: #E8F0FE;\n",
       "      border: none;\n",
       "      border-radius: 50%;\n",
       "      cursor: pointer;\n",
       "      display: none;\n",
       "      fill: #1967D2;\n",
       "      height: 32px;\n",
       "      padding: 0 0 0 0;\n",
       "      width: 32px;\n",
       "    }\n",
       "\n",
       "    .colab-df-convert:hover {\n",
       "      background-color: #E2EBFA;\n",
       "      box-shadow: 0px 1px 2px rgba(60, 64, 67, 0.3), 0px 1px 3px 1px rgba(60, 64, 67, 0.15);\n",
       "      fill: #174EA6;\n",
       "    }\n",
       "\n",
       "    [theme=dark] .colab-df-convert {\n",
       "      background-color: #3B4455;\n",
       "      fill: #D2E3FC;\n",
       "    }\n",
       "\n",
       "    [theme=dark] .colab-df-convert:hover {\n",
       "      background-color: #434B5C;\n",
       "      box-shadow: 0px 1px 3px 1px rgba(0, 0, 0, 0.15);\n",
       "      filter: drop-shadow(0px 1px 2px rgba(0, 0, 0, 0.3));\n",
       "      fill: #FFFFFF;\n",
       "    }\n",
       "  </style>\n",
       "\n",
       "      <script>\n",
       "        const buttonEl =\n",
       "          document.querySelector('#df-7d4a4d08-2a8c-40c2-ad19-8487190f35fe button.colab-df-convert');\n",
       "        buttonEl.style.display =\n",
       "          google.colab.kernel.accessAllowed ? 'block' : 'none';\n",
       "\n",
       "        async function convertToInteractive(key) {\n",
       "          const element = document.querySelector('#df-7d4a4d08-2a8c-40c2-ad19-8487190f35fe');\n",
       "          const dataTable =\n",
       "            await google.colab.kernel.invokeFunction('convertToInteractive',\n",
       "                                                     [key], {});\n",
       "          if (!dataTable) return;\n",
       "\n",
       "          const docLinkHtml = 'Like what you see? Visit the ' +\n",
       "            '<a target=\"_blank\" href=https://colab.research.google.com/notebooks/data_table.ipynb>data table notebook</a>'\n",
       "            + ' to learn more about interactive tables.';\n",
       "          element.innerHTML = '';\n",
       "          dataTable['output_type'] = 'display_data';\n",
       "          await google.colab.output.renderOutput(dataTable, element);\n",
       "          const docLink = document.createElement('div');\n",
       "          docLink.innerHTML = docLinkHtml;\n",
       "          element.appendChild(docLink);\n",
       "        }\n",
       "      </script>\n",
       "    </div>\n",
       "  </div>\n",
       "  "
      ],
      "text/plain": [
       "         Date      Time  Latitude  Longitude  Depth  Magnitude\n",
       "0  12/12/2021  14:04:36     -8.55  121.91842   10.0       3.34\n",
       "1  12/14/2021  23:50:01     -7.53  121.58232   10.0       3.11\n",
       "2  12/14/2021  23:42:19     -7.36  121.23427   15.0       2.58\n",
       "3  12/14/2021  23:32:43     -8.02  122.40597   10.0       3.41\n",
       "4  12/14/2021  23:29:36     -7.51  121.63541   10.0       2.64"
      ]
     },
     "execution_count": 24,
     "metadata": {},
     "output_type": "execute_result"
    }
   ],
   "source": [
    "data = data[['Date', 'Time', 'Latitude', 'Longitude', 'Depth', 'Magnitude']]\n",
    "data.head()"
   ]
  },
  {
   "cell_type": "code",
   "execution_count": 25,
   "metadata": {
    "id": "-Ucg6WLD79yo"
   },
   "outputs": [],
   "source": [
    "import datetime\n",
    "import time\n",
    "\n",
    "timestamp = []\n",
    "for d, t in zip(data['Date'], data['Time']):\n",
    "    try:\n",
    "        ts = datetime.datetime.strptime(d+' '+t, '%m/%d/%Y %H:%M:%S')\n",
    "        timestamp.append(time.mktime(ts.timetuple()))\n",
    "    except ValueError:\n",
    "        # print('ValueError')\n",
    "        timestamp.append('ValueError')"
   ]
  },
  {
   "cell_type": "code",
   "execution_count": 26,
   "metadata": {
    "id": "AEij9U578DUv"
   },
   "outputs": [],
   "source": [
    "timeStamp = pd.Series(timestamp)\n",
    "data['Timestamp'] = timeStamp.values"
   ]
  },
  {
   "cell_type": "code",
   "execution_count": 27,
   "metadata": {
    "colab": {
     "base_uri": "https://localhost:8080/",
     "height": 204
    },
    "id": "a6euiERh8Gkd",
    "outputId": "1c14cd35-3fcd-4a5d-d7ec-884c75cf5d80"
   },
   "outputs": [
    {
     "data": {
      "text/html": [
       "\n",
       "  <div id=\"df-398775c1-5e0e-4806-9c7d-0164283a2424\">\n",
       "    <div class=\"colab-df-container\">\n",
       "      <div>\n",
       "<style scoped>\n",
       "    .dataframe tbody tr th:only-of-type {\n",
       "        vertical-align: middle;\n",
       "    }\n",
       "\n",
       "    .dataframe tbody tr th {\n",
       "        vertical-align: top;\n",
       "    }\n",
       "\n",
       "    .dataframe thead th {\n",
       "        text-align: right;\n",
       "    }\n",
       "</style>\n",
       "<table border=\"1\" class=\"dataframe\">\n",
       "  <thead>\n",
       "    <tr style=\"text-align: right;\">\n",
       "      <th></th>\n",
       "      <th>Latitude</th>\n",
       "      <th>Longitude</th>\n",
       "      <th>Depth</th>\n",
       "      <th>Magnitude</th>\n",
       "      <th>Timestamp</th>\n",
       "    </tr>\n",
       "  </thead>\n",
       "  <tbody>\n",
       "    <tr>\n",
       "      <th>0</th>\n",
       "      <td>-8.55</td>\n",
       "      <td>121.91842</td>\n",
       "      <td>10.0</td>\n",
       "      <td>3.34</td>\n",
       "      <td>1.639318e+09</td>\n",
       "    </tr>\n",
       "    <tr>\n",
       "      <th>1</th>\n",
       "      <td>-7.53</td>\n",
       "      <td>121.58232</td>\n",
       "      <td>10.0</td>\n",
       "      <td>3.11</td>\n",
       "      <td>1.639526e+09</td>\n",
       "    </tr>\n",
       "    <tr>\n",
       "      <th>2</th>\n",
       "      <td>-7.36</td>\n",
       "      <td>121.23427</td>\n",
       "      <td>15.0</td>\n",
       "      <td>2.58</td>\n",
       "      <td>1.639525e+09</td>\n",
       "    </tr>\n",
       "    <tr>\n",
       "      <th>3</th>\n",
       "      <td>-8.02</td>\n",
       "      <td>122.40597</td>\n",
       "      <td>10.0</td>\n",
       "      <td>3.41</td>\n",
       "      <td>1.639525e+09</td>\n",
       "    </tr>\n",
       "    <tr>\n",
       "      <th>4</th>\n",
       "      <td>-7.51</td>\n",
       "      <td>121.63541</td>\n",
       "      <td>10.0</td>\n",
       "      <td>2.64</td>\n",
       "      <td>1.639525e+09</td>\n",
       "    </tr>\n",
       "  </tbody>\n",
       "</table>\n",
       "</div>\n",
       "      <button class=\"colab-df-convert\" onclick=\"convertToInteractive('df-398775c1-5e0e-4806-9c7d-0164283a2424')\"\n",
       "              title=\"Convert this dataframe to an interactive table.\"\n",
       "              style=\"display:none;\">\n",
       "        \n",
       "  <svg xmlns=\"http://www.w3.org/2000/svg\" height=\"24px\"viewBox=\"0 0 24 24\"\n",
       "       width=\"24px\">\n",
       "    <path d=\"M0 0h24v24H0V0z\" fill=\"none\"/>\n",
       "    <path d=\"M18.56 5.44l.94 2.06.94-2.06 2.06-.94-2.06-.94-.94-2.06-.94 2.06-2.06.94zm-11 1L8.5 8.5l.94-2.06 2.06-.94-2.06-.94L8.5 2.5l-.94 2.06-2.06.94zm10 10l.94 2.06.94-2.06 2.06-.94-2.06-.94-.94-2.06-.94 2.06-2.06.94z\"/><path d=\"M17.41 7.96l-1.37-1.37c-.4-.4-.92-.59-1.43-.59-.52 0-1.04.2-1.43.59L10.3 9.45l-7.72 7.72c-.78.78-.78 2.05 0 2.83L4 21.41c.39.39.9.59 1.41.59.51 0 1.02-.2 1.41-.59l7.78-7.78 2.81-2.81c.8-.78.8-2.07 0-2.86zM5.41 20L4 18.59l7.72-7.72 1.47 1.35L5.41 20z\"/>\n",
       "  </svg>\n",
       "      </button>\n",
       "      \n",
       "  <style>\n",
       "    .colab-df-container {\n",
       "      display:flex;\n",
       "      flex-wrap:wrap;\n",
       "      gap: 12px;\n",
       "    }\n",
       "\n",
       "    .colab-df-convert {\n",
       "      background-color: #E8F0FE;\n",
       "      border: none;\n",
       "      border-radius: 50%;\n",
       "      cursor: pointer;\n",
       "      display: none;\n",
       "      fill: #1967D2;\n",
       "      height: 32px;\n",
       "      padding: 0 0 0 0;\n",
       "      width: 32px;\n",
       "    }\n",
       "\n",
       "    .colab-df-convert:hover {\n",
       "      background-color: #E2EBFA;\n",
       "      box-shadow: 0px 1px 2px rgba(60, 64, 67, 0.3), 0px 1px 3px 1px rgba(60, 64, 67, 0.15);\n",
       "      fill: #174EA6;\n",
       "    }\n",
       "\n",
       "    [theme=dark] .colab-df-convert {\n",
       "      background-color: #3B4455;\n",
       "      fill: #D2E3FC;\n",
       "    }\n",
       "\n",
       "    [theme=dark] .colab-df-convert:hover {\n",
       "      background-color: #434B5C;\n",
       "      box-shadow: 0px 1px 3px 1px rgba(0, 0, 0, 0.15);\n",
       "      filter: drop-shadow(0px 1px 2px rgba(0, 0, 0, 0.3));\n",
       "      fill: #FFFFFF;\n",
       "    }\n",
       "  </style>\n",
       "\n",
       "      <script>\n",
       "        const buttonEl =\n",
       "          document.querySelector('#df-398775c1-5e0e-4806-9c7d-0164283a2424 button.colab-df-convert');\n",
       "        buttonEl.style.display =\n",
       "          google.colab.kernel.accessAllowed ? 'block' : 'none';\n",
       "\n",
       "        async function convertToInteractive(key) {\n",
       "          const element = document.querySelector('#df-398775c1-5e0e-4806-9c7d-0164283a2424');\n",
       "          const dataTable =\n",
       "            await google.colab.kernel.invokeFunction('convertToInteractive',\n",
       "                                                     [key], {});\n",
       "          if (!dataTable) return;\n",
       "\n",
       "          const docLinkHtml = 'Like what you see? Visit the ' +\n",
       "            '<a target=\"_blank\" href=https://colab.research.google.com/notebooks/data_table.ipynb>data table notebook</a>'\n",
       "            + ' to learn more about interactive tables.';\n",
       "          element.innerHTML = '';\n",
       "          dataTable['output_type'] = 'display_data';\n",
       "          await google.colab.output.renderOutput(dataTable, element);\n",
       "          const docLink = document.createElement('div');\n",
       "          docLink.innerHTML = docLinkHtml;\n",
       "          element.appendChild(docLink);\n",
       "        }\n",
       "      </script>\n",
       "    </div>\n",
       "  </div>\n",
       "  "
      ],
      "text/plain": [
       "   Latitude  Longitude  Depth  Magnitude     Timestamp\n",
       "0     -8.55  121.91842   10.0       3.34  1.639318e+09\n",
       "1     -7.53  121.58232   10.0       3.11  1.639526e+09\n",
       "2     -7.36  121.23427   15.0       2.58  1.639525e+09\n",
       "3     -8.02  122.40597   10.0       3.41  1.639525e+09\n",
       "4     -7.51  121.63541   10.0       2.64  1.639525e+09"
      ]
     },
     "execution_count": 27,
     "metadata": {},
     "output_type": "execute_result"
    }
   ],
   "source": [
    "final_data = data.drop(['Date', 'Time'], axis=1)\n",
    "final_data = final_data[final_data.Timestamp != 'ValueError']\n",
    "final_data.head()"
   ]
  },
  {
   "cell_type": "code",
   "execution_count": 28,
   "metadata": {
    "id": "zosGYN-f8KCx"
   },
   "outputs": [],
   "source": [
    "#!pip install basemap\n",
    "from mpl_toolkits.basemap import Basemap\n",
    "\n",
    "m = Basemap(projection='mill',llcrnrlat=-80,urcrnrlat=80, llcrnrlon=-180,urcrnrlon=180,lat_ts=20,resolution='c')\n",
    "\n",
    "longitudes = data[\"Longitude\"].tolist()\n",
    "latitudes = data[\"Latitude\"].tolist()\n",
    "#m = Basemap(width=12000000,height=9000000,projection='lcc',\n",
    "            #resolution=None,lat_1=80.,lat_2=55,lat_0=80,lon_0=-107.)\n",
    "x,y = m(longitudes,latitudes)"
   ]
  },
  {
   "cell_type": "code",
   "execution_count": 29,
   "metadata": {
    "colab": {
     "base_uri": "https://localhost:8080/",
     "height": 441
    },
    "id": "MZpnalcE8PVb",
    "outputId": "8f9a1859-14b2-4f05-e487-c64e85903882"
   },
   "outputs": [
    {
     "data": {
      "image/png": "[encoded data removed]",
      "text/plain": [
       "<Figure size 864x720 with 1 Axes>"
      ]
     },
     "metadata": {},
     "output_type": "display_data"
    }
   ],
   "source": [
    "fig = plt.figure(figsize=(12,10))\n",
    "plt.title(\"All affected areas\")\n",
    "m.plot(x, y, \"o\", markersize = 2, color = 'blue')\n",
    "m.drawcoastlines()\n",
    "m.fillcontinents(color='coral',lake_color='aqua')\n",
    "m.drawmapboundary()\n",
    "m.drawcountries()\n",
    "plt.show()"
   ]
  },
  {
   "cell_type": "code",
   "execution_count": 30,
   "metadata": {
    "id": "RfKF8KDvS7sb"
   },
   "outputs": [],
   "source": [
    "X = final_data[['Timestamp', 'Latitude', 'Longitude']]\n",
    "y = final_data[['Magnitude', 'Depth']]"
   ]
  },
  {
   "cell_type": "code",
   "execution_count": 31,
   "metadata": {
    "colab": {
     "base_uri": "https://localhost:8080/"
    },
    "id": "qaCiBiE0TApS",
    "outputId": "952ca534-9ecc-445c-943e-ceef50972cf3"
   },
   "outputs": [
    {
     "name": "stdout",
     "output_type": "stream",
     "text": [
      "(268, 3) (67, 3) (268, 2) (67, 3)\n"
     ]
    }
   ],
   "source": [
    "from sklearn.model_selection import train_test_split\n",
    "#from sklearn.cross_validation import train_test_split\n",
    "\n",
    "X_train, X_test, y_train, y_test = train_test_split(X, y, test_size=0.2, random_state=42)\n",
    "print(X_train.shape, X_test.shape, y_train.shape, X_test.shape)"
   ]
  },
  {
   "cell_type": "code",
   "execution_count": 32,
   "metadata": {
    "colab": {
     "base_uri": "https://localhost:8080/"
    },
    "id": "siTxmEnWTEhv",
    "outputId": "ebb33c32-9f0f-4e6b-9b07-1ade36398527"
   },
   "outputs": [
    {
     "data": {
      "text/plain": [
       "array([[ 3.1932, 13.355 ],\n",
       "       [ 2.5717, 59.046 ],\n",
       "       [ 3.0113, 51.997 ],\n",
       "       [ 3.1467, 28.055 ],\n",
       "       [ 3.2331, 10.483 ],\n",
       "       [ 3.0688, 10.766 ],\n",
       "       [ 3.2922, 17.103 ],\n",
       "       [ 2.4355, 38.884 ],\n",
       "       [ 2.8952, 12.715 ],\n",
       "       [ 3.213 , 26.483 ],\n",
       "       [ 3.3379, 13.529 ],\n",
       "       [ 3.0223, 12.111 ],\n",
       "       [ 3.0134, 27.283 ],\n",
       "       [ 3.1143, 15.003 ],\n",
       "       [ 3.8075, 10.873 ],\n",
       "       [ 3.2859, 33.454 ],\n",
       "       [ 3.078 , 19.71  ],\n",
       "       [ 3.0146, 17.058 ],\n",
       "       [ 3.3155, 15.961 ],\n",
       "       [ 2.9692, 15.215 ],\n",
       "       [ 3.3454, 19.254 ],\n",
       "       [ 3.3652, 14.11  ],\n",
       "       [ 3.6449, 19.518 ],\n",
       "       [ 2.6941, 17.592 ],\n",
       "       [ 3.1058, 16.856 ],\n",
       "       [ 3.6452, 12.868 ],\n",
       "       [ 2.5574, 49.058 ],\n",
       "       [ 3.2833, 20.555 ],\n",
       "       [ 3.4917, 17.444 ],\n",
       "       [ 3.2656, 18.469 ],\n",
       "       [ 3.8506, 12.878 ],\n",
       "       [ 3.1666, 14.816 ],\n",
       "       [ 3.17  , 10.672 ],\n",
       "       [ 3.1253, 16.273 ],\n",
       "       [ 3.0093, 13.347 ],\n",
       "       [ 2.7124, 42.393 ],\n",
       "       [ 3.4439, 16.01  ],\n",
       "       [ 2.918 , 11.363 ],\n",
       "       [ 3.4622, 10.502 ],\n",
       "       [ 3.2176, 14.42  ],\n",
       "       [ 3.2618, 13.184 ],\n",
       "       [ 3.2941, 12.169 ],\n",
       "       [ 4.079 , 19.364 ],\n",
       "       [ 3.6344, 17.236 ],\n",
       "       [ 3.21  , 28.387 ],\n",
       "       [ 3.0855, 14.403 ],\n",
       "       [ 3.2734, 20.122 ],\n",
       "       [ 4.3968, 12.853 ],\n",
       "       [ 3.2335, 16.06  ],\n",
       "       [ 3.3174, 17.334 ],\n",
       "       [ 2.8504, 22.567 ],\n",
       "       [ 4.0631, 11.661 ],\n",
       "       [ 3.3173, 15.762 ],\n",
       "       [ 2.5998, 58.936 ],\n",
       "       [ 3.1509, 10.474 ],\n",
       "       [ 3.0252, 21.013 ],\n",
       "       [ 3.3419, 18.168 ],\n",
       "       [ 3.5815, 28.598 ],\n",
       "       [ 2.976 , 21.479 ],\n",
       "       [ 3.2503, 23.525 ],\n",
       "       [ 3.6717, 24.439 ],\n",
       "       [ 3.2544, 19.217 ],\n",
       "       [ 3.2895, 15.421 ],\n",
       "       [ 3.3398, 11.71  ],\n",
       "       [ 3.4542, 10.598 ],\n",
       "       [ 3.237 , 16.955 ],\n",
       "       [ 3.1714, 12.701 ]])"
      ]
     },
     "execution_count": 32,
     "metadata": {},
     "output_type": "execute_result"
    }
   ],
   "source": [
    "from sklearn.ensemble import RandomForestRegressor\n",
    "\n",
    "reg = RandomForestRegressor(random_state=42)\n",
    "reg.fit(X_train, y_train)\n",
    "reg.predict(X_test)"
   ]
  },
  {
   "cell_type": "code",
   "execution_count": 33,
   "metadata": {
    "colab": {
     "base_uri": "https://localhost:8080/"
    },
    "id": "LafgJFP_UCk6",
    "outputId": "dc467e55-dabe-43ad-c7dd-cd8f02638598"
   },
   "outputs": [
    {
     "data": {
      "text/plain": [
       "0.24522034608248605"
      ]
     },
     "execution_count": 33,
     "metadata": {},
     "output_type": "execute_result"
    }
   ],
   "source": [
    "reg.score(X_test, y_test)"
   ]
  },
  {
   "cell_type": "code",
   "execution_count": 34,
   "metadata": {
    "colab": {
     "base_uri": "https://localhost:8080/"
    },
    "id": "exO8LQTkUI43",
    "outputId": "59174d54-3e18-4245-debe-0d1788466979"
   },
   "outputs": [
    {
     "data": {
      "text/plain": [
       "array([[ 3.1932, 13.355 ],\n",
       "       [ 2.5717, 59.046 ],\n",
       "       [ 3.0113, 51.997 ],\n",
       "       [ 3.1467, 28.055 ],\n",
       "       [ 3.2331, 10.483 ],\n",
       "       [ 3.0688, 10.766 ],\n",
       "       [ 3.2922, 17.103 ],\n",
       "       [ 2.4355, 38.884 ],\n",
       "       [ 2.8952, 12.715 ],\n",
       "       [ 3.213 , 26.483 ],\n",
       "       [ 3.3379, 13.529 ],\n",
       "       [ 3.0223, 12.111 ],\n",
       "       [ 3.0134, 27.283 ],\n",
       "       [ 3.1143, 15.003 ],\n",
       "       [ 3.8075, 10.873 ],\n",
       "       [ 3.2859, 33.454 ],\n",
       "       [ 3.078 , 19.71  ],\n",
       "       [ 3.0146, 17.058 ],\n",
       "       [ 3.3155, 15.961 ],\n",
       "       [ 2.9692, 15.215 ],\n",
       "       [ 3.3454, 19.254 ],\n",
       "       [ 3.3652, 14.11  ],\n",
       "       [ 3.6449, 19.518 ],\n",
       "       [ 2.6941, 17.592 ],\n",
       "       [ 3.1058, 16.856 ],\n",
       "       [ 3.6452, 12.868 ],\n",
       "       [ 2.5574, 49.058 ],\n",
       "       [ 3.2833, 20.555 ],\n",
       "       [ 3.4917, 17.444 ],\n",
       "       [ 3.2656, 18.469 ],\n",
       "       [ 3.8506, 12.878 ],\n",
       "       [ 3.1666, 14.816 ],\n",
       "       [ 3.17  , 10.672 ],\n",
       "       [ 3.1253, 16.273 ],\n",
       "       [ 3.0093, 13.347 ],\n",
       "       [ 2.7124, 42.393 ],\n",
       "       [ 3.4439, 16.01  ],\n",
       "       [ 2.918 , 11.363 ],\n",
       "       [ 3.4622, 10.502 ],\n",
       "       [ 3.2176, 14.42  ],\n",
       "       [ 3.2618, 13.184 ],\n",
       "       [ 3.2941, 12.169 ],\n",
       "       [ 4.079 , 19.364 ],\n",
       "       [ 3.6344, 17.236 ],\n",
       "       [ 3.21  , 28.387 ],\n",
       "       [ 3.0855, 14.403 ],\n",
       "       [ 3.2734, 20.122 ],\n",
       "       [ 4.3968, 12.853 ],\n",
       "       [ 3.2335, 16.06  ],\n",
       "       [ 3.3174, 17.334 ],\n",
       "       [ 2.8504, 22.567 ],\n",
       "       [ 4.0631, 11.661 ],\n",
       "       [ 3.3173, 15.762 ],\n",
       "       [ 2.5998, 58.936 ],\n",
       "       [ 3.1509, 10.474 ],\n",
       "       [ 3.0252, 21.013 ],\n",
       "       [ 3.3419, 18.168 ],\n",
       "       [ 3.5815, 28.598 ],\n",
       "       [ 2.976 , 21.479 ],\n",
       "       [ 3.2503, 23.525 ],\n",
       "       [ 3.6717, 24.439 ],\n",
       "       [ 3.2544, 19.217 ],\n",
       "       [ 3.2895, 15.421 ],\n",
       "       [ 3.3398, 11.71  ],\n",
       "       [ 3.4542, 10.598 ],\n",
       "       [ 3.237 , 16.955 ],\n",
       "       [ 3.1714, 12.701 ]])"
      ]
     },
     "execution_count": 34,
     "metadata": {},
     "output_type": "execute_result"
    }
   ],
   "source": [
    "from sklearn.model_selection import GridSearchCV\n",
    "\n",
    "parameters = {'n_estimators':[10, 20, 50, 100, 200, 500]}\n",
    "\n",
    "grid_obj = GridSearchCV(reg, parameters)\n",
    "grid_fit = grid_obj.fit(X_train, y_train)\n",
    "best_fit = grid_fit.best_estimator_\n",
    "best_fit.predict(X_test)"
   ]
  },
  {
   "cell_type": "code",
   "execution_count": 35,
   "metadata": {
    "colab": {
     "base_uri": "https://localhost:8080/"
    },
    "id": "3S0J6RCYUPys",
    "outputId": "ec011c55-2dbe-4b2c-dee3-6a30ca57ddee"
   },
   "outputs": [
    {
     "data": {
      "text/plain": [
       "0.24522034608248605"
      ]
     },
     "execution_count": 35,
     "metadata": {},
     "output_type": "execute_result"
    }
   ],
   "source": [
    "best_fit.score(X_test, y_test)"
   ]
  },
  {
   "cell_type": "code",
   "execution_count": 36,
   "metadata": {
    "id": "9UILr72mUyAw"
   },
   "outputs": [],
   "source": [
    "from keras.models import Sequential\n",
    "from keras.layers import Dense\n",
    "\n",
    "def create_model(neurons, activation, optimizer, loss):\n",
    "    model = Sequential()\n",
    "    model.add(Dense(neurons, activation=activation, input_shape=(3,)))\n",
    "    model.add(Dense(neurons, activation=activation))\n",
    "    model.add(Dense(2, activation='softmax'))\n",
    "    \n",
    "    model.compile(optimizer=optimizer, loss=loss, metrics=['accuracy'])\n",
    "    \n",
    "    return model"
   ]
  },
  {
   "cell_type": "code",
   "execution_count": 37,
   "metadata": {
    "colab": {
     "base_uri": "https://localhost:8080/"
    },
    "id": "6tTlZp0PU3nk",
    "outputId": "4a56d189-1a5e-4802-e19f-3649a7fec0f6"
   },
   "outputs": [
    {
     "name": "stderr",
     "output_type": "stream",
     "text": [
      "/usr/local/lib/python3.7/dist-packages/ipykernel_launcher.py:3: DeprecationWarning: KerasClassifier is deprecated, use Sci-Keras (https://github.com/adriangb/scikeras) instead. See https://www.adriangb.com/scikeras/stable/migration.html for help migrating.\n",
      "  This is separate from the ipykernel package so we can avoid doing imports until\n"
     ]
    }
   ],
   "source": [
    "from keras.wrappers.scikit_learn import KerasClassifier\n",
    "\n",
    "model = KerasClassifier(build_fn=create_model, verbose=0)\n",
    "\n",
    "# neurons = [16, 64, 128, 256]\n",
    "neurons = [16]\n",
    "# batch_size = [10, 20, 50, 100]\n",
    "batch_size = [10]\n",
    "epochs = [10]\n",
    "# activation = ['relu', 'tanh', 'sigmoid', 'hard_sigmoid', 'linear', 'exponential']\n",
    "activation = ['sigmoid', 'relu']\n",
    "# optimizer = ['SGD', 'RMSprop', 'Adagrad', 'Adadelta', 'Adam', 'Adamax', 'Nadam']\n",
    "optimizer = ['SGD', 'Adadelta']\n",
    "loss = ['squared_hinge']\n",
    "\n",
    "param_grid = dict(neurons=neurons, batch_size=batch_size, epochs=epochs, activation=activation, optimizer=optimizer, loss=loss)"
   ]
  },
  {
   "cell_type": "code",
   "execution_count": 38,
   "metadata": {
    "id": "SP1VCHoLWku6"
   },
   "outputs": [],
   "source": [
    "X_train = np.asarray(X_train).astype(np.float32)\n",
    "y_train = np.asarray(y_train).astype(np.float32)"
   ]
  },
  {
   "cell_type": "code",
   "execution_count": 39,
   "metadata": {
    "colab": {
     "base_uri": "https://localhost:8080/"
    },
    "id": "9ohVDDE7VBB5",
    "outputId": "9e29ff1e-663f-4016-e7f8-c18a375ec422"
   },
   "outputs": [
    {
     "name": "stdout",
     "output_type": "stream",
     "text": [
      "Best: 0.600000 using {'activation': 'sigmoid', 'batch_size': 10, 'epochs': 10, 'loss': 'squared_hinge', 'neurons': 16, 'optimizer': 'Adadelta'}\n",
      "0.200000 (0.400000) with: {'activation': 'sigmoid', 'batch_size': 10, 'epochs': 10, 'loss': 'squared_hinge', 'neurons': 16, 'optimizer': 'SGD'}\n",
      "0.600000 (0.489898) with: {'activation': 'sigmoid', 'batch_size': 10, 'epochs': 10, 'loss': 'squared_hinge', 'neurons': 16, 'optimizer': 'Adadelta'}\n",
      "0.400000 (0.489898) with: {'activation': 'relu', 'batch_size': 10, 'epochs': 10, 'loss': 'squared_hinge', 'neurons': 16, 'optimizer': 'SGD'}\n",
      "0.600000 (0.489898) with: {'activation': 'relu', 'batch_size': 10, 'epochs': 10, 'loss': 'squared_hinge', 'neurons': 16, 'optimizer': 'Adadelta'}\n"
     ]
    }
   ],
   "source": [
    "grid = GridSearchCV(estimator=model, param_grid=param_grid, n_jobs=-1)\n",
    "grid_result = grid.fit(X_train, y_train)\n",
    "\n",
    "print(\"Best: %f using %s\" % (grid_result.best_score_, grid_result.best_params_))\n",
    "means = grid_result.cv_results_['mean_test_score']\n",
    "stds = grid_result.cv_results_['std_test_score']\n",
    "params = grid_result.cv_results_['params']\n",
    "for mean, stdev, param in zip(means, stds, params):\n",
    "    print(\"%f (%f) with: %r\" % (mean, stdev, param))"
   ]
  },
  {
   "cell_type": "code",
   "execution_count": 40,
   "metadata": {
    "id": "uqRTWtHCVHUM"
   },
   "outputs": [],
   "source": [
    "model = Sequential()\n",
    "model.add(Dense(16, activation='relu', input_shape=(3,)))\n",
    "model.add(Dense(16, activation='relu'))\n",
    "model.add(Dense(2, activation='softmax'))\n",
    "\n",
    "model.compile(optimizer='SGD', loss='squared_hinge', metrics=['accuracy'])"
   ]
  },
  {
   "cell_type": "code",
   "execution_count": 41,
   "metadata": {
    "colab": {
     "base_uri": "https://localhost:8080/"
    },
    "id": "gprDg54CVPDY",
    "outputId": "1a80a833-d65d-4674-fd5a-148e53e478a5"
   },
   "outputs": [
    {
     "name": "stdout",
     "output_type": "stream",
     "text": [
      "Epoch 1/20\n",
      "27/27 [==============================] - 1s 10ms/step - loss: 0.5000 - accuracy: 1.0000 - val_loss: 0.5000 - val_accuracy: 1.0000\n",
      "Epoch 2/20\n",
      "27/27 [==============================] - 0s 3ms/step - loss: 0.5000 - accuracy: 1.0000 - val_loss: 0.5000 - val_accuracy: 1.0000\n",
      "Epoch 3/20\n",
      "27/27 [==============================] - 0s 3ms/step - loss: 0.5000 - accuracy: 1.0000 - val_loss: 0.5000 - val_accuracy: 1.0000\n",
      "Epoch 4/20\n",
      "27/27 [==============================] - 0s 3ms/step - loss: 0.5000 - accuracy: 1.0000 - val_loss: 0.5000 - val_accuracy: 1.0000\n",
      "Epoch 5/20\n",
      "27/27 [==============================] - 0s 3ms/step - loss: 0.5000 - accuracy: 1.0000 - val_loss: 0.5000 - val_accuracy: 1.0000\n",
      "Epoch 6/20\n",
      "27/27 [==============================] - 0s 3ms/step - loss: 0.5000 - accuracy: 1.0000 - val_loss: 0.5000 - val_accuracy: 1.0000\n",
      "Epoch 7/20\n",
      "27/27 [==============================] - 0s 3ms/step - loss: 0.5000 - accuracy: 1.0000 - val_loss: 0.5000 - val_accuracy: 1.0000\n",
      "Epoch 8/20\n",
      "27/27 [==============================] - 0s 4ms/step - loss: 0.5000 - accuracy: 1.0000 - val_loss: 0.5000 - val_accuracy: 1.0000\n",
      "Epoch 9/20\n",
      "27/27 [==============================] - 0s 3ms/step - loss: 0.5000 - accuracy: 1.0000 - val_loss: 0.5000 - val_accuracy: 1.0000\n",
      "Epoch 10/20\n",
      "27/27 [==============================] - 0s 3ms/step - loss: 0.5000 - accuracy: 1.0000 - val_loss: 0.5000 - val_accuracy: 1.0000\n",
      "Epoch 11/20\n",
      "27/27 [==============================] - 0s 3ms/step - loss: 0.5000 - accuracy: 1.0000 - val_loss: 0.5000 - val_accuracy: 1.0000\n",
      "Epoch 12/20\n",
      "27/27 [==============================] - 0s 3ms/step - loss: 0.5000 - accuracy: 1.0000 - val_loss: 0.5000 - val_accuracy: 1.0000\n",
      "Epoch 13/20\n",
      "27/27 [==============================] - 0s 3ms/step - loss: 0.5000 - accuracy: 1.0000 - val_loss: 0.5000 - val_accuracy: 1.0000\n",
      "Epoch 14/20\n",
      "27/27 [==============================] - 0s 3ms/step - loss: 0.5000 - accuracy: 1.0000 - val_loss: 0.5000 - val_accuracy: 1.0000\n",
      "Epoch 15/20\n",
      "27/27 [==============================] - 0s 3ms/step - loss: 0.5000 - accuracy: 1.0000 - val_loss: 0.5000 - val_accuracy: 1.0000\n",
      "Epoch 16/20\n",
      "27/27 [==============================] - 0s 3ms/step - loss: 0.5000 - accuracy: 1.0000 - val_loss: 0.5000 - val_accuracy: 1.0000\n",
      "Epoch 17/20\n",
      "27/27 [==============================] - 0s 3ms/step - loss: 0.5000 - accuracy: 1.0000 - val_loss: 0.5000 - val_accuracy: 1.0000\n",
      "Epoch 18/20\n",
      "27/27 [==============================] - 0s 3ms/step - loss: 0.5000 - accuracy: 1.0000 - val_loss: 0.5000 - val_accuracy: 1.0000\n",
      "Epoch 19/20\n",
      "27/27 [==============================] - 0s 3ms/step - loss: 0.5000 - accuracy: 1.0000 - val_loss: 0.5000 - val_accuracy: 1.0000\n",
      "Epoch 20/20\n",
      "27/27 [==============================] - 0s 3ms/step - loss: 0.5000 - accuracy: 1.0000 - val_loss: 0.5000 - val_accuracy: 1.0000\n"
     ]
    },
    {
     "data": {
      "text/plain": [
       "<keras.callbacks.History at 0x7fc499cb6850>"
      ]
     },
     "execution_count": 41,
     "metadata": {},
     "output_type": "execute_result"
    }
   ],
   "source": [
    "model.fit(X_train, y_train, batch_size=10, epochs=20, verbose=1, validation_data=(X_test, y_test))"
   ]
  },
  {
   "cell_type": "code",
   "execution_count": 42,
   "metadata": {
    "colab": {
     "base_uri": "https://localhost:8080/"
    },
    "id": "1IJe7Lk5VSQ-",
    "outputId": "ff4bb555-e57e-4bd2-b21d-7d5da7f6c81a"
   },
   "outputs": [
    {
     "name": "stdout",
     "output_type": "stream",
     "text": [
      "3/3 [==============================] - 0s 5ms/step - loss: 0.5000 - accuracy: 1.0000\n",
      "Evaluation result on Test Data : Loss = 0.5, accuracy = 1.0\n"
     ]
    }
   ],
   "source": [
    "[test_loss, test_acc] = model.evaluate(X_test, y_test)\n",
    "print(\"Evaluation result on Test Data : Loss = {}, accuracy = {}\".format(test_loss, test_acc))"
   ]
  },
  {
   "cell_type": "code",
   "execution_count": 43,
   "metadata": {
    "id": "4cxNIheKVZlb"
   },
   "outputs": [],
   "source": [
    "model.save('earthquake.h5')"
   ]
  }
 ],
 "metadata": {
  "colab": {
   "name": "Klasifikasi_Gempa_Floresedit.ipynb",
   "provenance": []
  },
  "kernelspec": {
   "display_name": "Python 3 (ipykernel)",
   "language": "python",
   "name": "python3"
  },
  "language_info": {
   "codemirror_mode": {
    "name": "ipython",
    "version": 3
   },
   "file_extension": ".py",
   "mimetype": "text/x-python",
   "name": "python",
   "nbconvert_exporter": "python",
   "pygments_lexer": "ipython3",
   "version": "3.9.10"
  }
 },
 "nbformat": 4,
 "nbformat_minor": 1
}
