{
 "cells": [
  {
   "cell_type": "code",
   "execution_count": 1,
   "id": "062ec40f",
   "metadata": {},
   "outputs": [],
   "source": [
    "import numpy as np\n",
    "import pandas as pd\n",
    "import matplotlib.pyplot as plt \n",
    "import seaborn as sns\n",
    "plt.style.use('fivethirtyeight')\n",
    "from imblearn.over_sampling import SMOTE\n",
    "\n",
    "from sklearn.preprocessing import MinMaxScaler\n",
    "from sklearn.model_selection import train_test_split\n",
    "from sklearn.metrics import classification_report,confusion_matrix\n",
    "\n",
    "from tensorflow import keras\n",
    "%matplotlib inline"
   ]
  },
  {
   "cell_type": "code",
   "execution_count": 3,
   "id": "5ec3acfe",
   "metadata": {},
   "outputs": [
    {
     "data": {
      "text/html": [
       "<div>\n",
       "<style scoped>\n",
       "    .dataframe tbody tr th:only-of-type {\n",
       "        vertical-align: middle;\n",
       "    }\n",
       "\n",
       "    .dataframe tbody tr th {\n",
       "        vertical-align: top;\n",
       "    }\n",
       "\n",
       "    .dataframe thead th {\n",
       "        text-align: right;\n",
       "    }\n",
       "</style>\n",
       "<table border=\"1\" class=\"dataframe\">\n",
       "  <thead>\n",
       "    <tr style=\"text-align: right;\">\n",
       "      <th></th>\n",
       "      <th>Date</th>\n",
       "      <th>Time</th>\n",
       "      <th>Latitude</th>\n",
       "      <th>Longitude</th>\n",
       "      <th>Depth</th>\n",
       "      <th>Magnitude</th>\n",
       "    </tr>\n",
       "  </thead>\n",
       "  <tbody>\n",
       "    <tr>\n",
       "      <th>0</th>\n",
       "      <td>12/14/2021</td>\n",
       "      <td>03:20:23.0</td>\n",
       "      <td>-7.555067</td>\n",
       "      <td>122.248034</td>\n",
       "      <td>12.193</td>\n",
       "      <td>7.3</td>\n",
       "    </tr>\n",
       "    <tr>\n",
       "      <th>1</th>\n",
       "      <td>12/14/2021</td>\n",
       "      <td>03:23:30.0</td>\n",
       "      <td>-7.520367</td>\n",
       "      <td>122.276527</td>\n",
       "      <td>9.908</td>\n",
       "      <td>5.7</td>\n",
       "    </tr>\n",
       "    <tr>\n",
       "      <th>2</th>\n",
       "      <td>12/14/2021</td>\n",
       "      <td>03:25:31.0</td>\n",
       "      <td>-7.661919</td>\n",
       "      <td>122.291383</td>\n",
       "      <td>12.201</td>\n",
       "      <td>5.8</td>\n",
       "    </tr>\n",
       "    <tr>\n",
       "      <th>3</th>\n",
       "      <td>12/14/2021</td>\n",
       "      <td>03:38:14.0</td>\n",
       "      <td>-7.613724</td>\n",
       "      <td>121.543867</td>\n",
       "      <td>11.237</td>\n",
       "      <td>5.5</td>\n",
       "    </tr>\n",
       "    <tr>\n",
       "      <th>4</th>\n",
       "      <td>12/14/2021</td>\n",
       "      <td>03:41:56.0</td>\n",
       "      <td>-7.781743</td>\n",
       "      <td>122.403823</td>\n",
       "      <td>9.906</td>\n",
       "      <td>5.5</td>\n",
       "    </tr>\n",
       "  </tbody>\n",
       "</table>\n",
       "</div>"
      ],
      "text/plain": [
       "         Date        Time  Latitude   Longitude   Depth  Magnitude\n",
       "0  12/14/2021  03:20:23.0 -7.555067  122.248034  12.193        7.3\n",
       "1  12/14/2021  03:23:30.0 -7.520367  122.276527   9.908        5.7\n",
       "2  12/14/2021  03:25:31.0 -7.661919  122.291383  12.201        5.8\n",
       "3  12/14/2021  03:38:14.0 -7.613724  121.543867  11.237        5.5\n",
       "4  12/14/2021  03:41:56.0 -7.781743  122.403823   9.906        5.5"
      ]
     },
     "execution_count": 3,
     "metadata": {},
     "output_type": "execute_result"
    }
   ],
   "source": [
    "df = pd.read_csv('The-2021-Flores-Sea-earthquake-catalog.csv', names = ['Date','Time','Latitude','Longitude','Depth','Magnitude'])\n",
    "df.head()"
   ]
  },
  {
   "cell_type": "code",
   "execution_count": 4,
   "id": "2f64ef9c",
   "metadata": {},
   "outputs": [
    {
     "name": "stdout",
     "output_type": "stream",
     "text": [
      "<class 'pandas.core.frame.DataFrame'>\n",
      "RangeIndex: 1403 entries, 0 to 1402\n",
      "Data columns (total 6 columns):\n",
      " #   Column     Non-Null Count  Dtype  \n",
      "---  ------     --------------  -----  \n",
      " 0   Date       1403 non-null   object \n",
      " 1   Time       1403 non-null   object \n",
      " 2   Latitude   1403 non-null   float64\n",
      " 3   Longitude  1403 non-null   float64\n",
      " 4   Depth      1403 non-null   float64\n",
      " 5   Magnitude  1403 non-null   float64\n",
      "dtypes: float64(4), object(2)\n",
      "memory usage: 65.9+ KB\n"
     ]
    }
   ],
   "source": [
    "df.info()"
   ]
  },
  {
   "cell_type": "code",
   "execution_count": 5,
   "id": "8fbe3aaa",
   "metadata": {},
   "outputs": [
    {
     "data": {
      "text/html": [
       "<div>\n",
       "<style scoped>\n",
       "    .dataframe tbody tr th:only-of-type {\n",
       "        vertical-align: middle;\n",
       "    }\n",
       "\n",
       "    .dataframe tbody tr th {\n",
       "        vertical-align: top;\n",
       "    }\n",
       "\n",
       "    .dataframe thead th {\n",
       "        text-align: right;\n",
       "    }\n",
       "</style>\n",
       "<table border=\"1\" class=\"dataframe\">\n",
       "  <thead>\n",
       "    <tr style=\"text-align: right;\">\n",
       "      <th></th>\n",
       "      <th>Latitude</th>\n",
       "      <th>Longitude</th>\n",
       "      <th>Depth</th>\n",
       "      <th>Magnitude</th>\n",
       "    </tr>\n",
       "  </thead>\n",
       "  <tbody>\n",
       "    <tr>\n",
       "      <th>0</th>\n",
       "      <td>-7.555067</td>\n",
       "      <td>122.248034</td>\n",
       "      <td>12.193</td>\n",
       "      <td>7.3</td>\n",
       "    </tr>\n",
       "    <tr>\n",
       "      <th>1</th>\n",
       "      <td>-7.520367</td>\n",
       "      <td>122.276527</td>\n",
       "      <td>9.908</td>\n",
       "      <td>5.7</td>\n",
       "    </tr>\n",
       "    <tr>\n",
       "      <th>2</th>\n",
       "      <td>-7.661919</td>\n",
       "      <td>122.291383</td>\n",
       "      <td>12.201</td>\n",
       "      <td>5.8</td>\n",
       "    </tr>\n",
       "    <tr>\n",
       "      <th>3</th>\n",
       "      <td>-7.613724</td>\n",
       "      <td>121.543867</td>\n",
       "      <td>11.237</td>\n",
       "      <td>5.5</td>\n",
       "    </tr>\n",
       "    <tr>\n",
       "      <th>4</th>\n",
       "      <td>-7.781743</td>\n",
       "      <td>122.403823</td>\n",
       "      <td>9.906</td>\n",
       "      <td>5.5</td>\n",
       "    </tr>\n",
       "  </tbody>\n",
       "</table>\n",
       "</div>"
      ],
      "text/plain": [
       "   Latitude   Longitude   Depth  Magnitude\n",
       "0 -7.555067  122.248034  12.193        7.3\n",
       "1 -7.520367  122.276527   9.908        5.7\n",
       "2 -7.661919  122.291383  12.201        5.8\n",
       "3 -7.613724  121.543867  11.237        5.5\n",
       "4 -7.781743  122.403823   9.906        5.5"
      ]
     },
     "execution_count": 5,
     "metadata": {},
     "output_type": "execute_result"
    }
   ],
   "source": [
    "df = df[['Latitude', 'Longitude', 'Depth', 'Magnitude']]\n",
    "df.head()"
   ]
  },
  {
   "cell_type": "code",
   "execution_count": 6,
   "id": "d8692b6c",
   "metadata": {},
   "outputs": [
    {
     "data": {
      "image/png": "[encoded data removed]",
      "text/plain": [
       "<Figure size 432x288 with 1 Axes>"
      ]
     },
     "metadata": {
      "needs_background": "light"
     },
     "output_type": "display_data"
    }
   ],
   "source": [
    "from sklearn.cluster import KMeans\n",
    "\n",
    "wcss = []\n",
    "for i in range(1, 7):\n",
    "    kmeans = KMeans(n_clusters = i, init = 'k-means++', random_state = 42)\n",
    "    kmeans.fit(df)\n",
    "    wcss.append(kmeans.inertia_)\n",
    "plt.plot(range(1, 7), wcss)\n",
    "plt.title('Elbow Method')\n",
    "plt.xlabel('Cluster Number')\n",
    "plt.ylabel('WCSS')\n",
    "plt.show()"
   ]
  },
  {
   "cell_type": "code",
   "execution_count": 7,
   "id": "c65c1c6f",
   "metadata": {},
   "outputs": [
    {
     "name": "stdout",
     "output_type": "stream",
     "text": [
      "[[ -7.53370913 121.89721349  11.37294419   2.95193798]\n",
      " [ -7.56044329 121.96175543  15.99200382   2.90725191]\n",
      " [ -7.55657609 121.92148593   7.86057863   2.85141129]]\n"
     ]
    }
   ],
   "source": [
    "#mengaktifkan K-Means dan melakukan fitting\n",
    "kmeans = KMeans(n_clusters=3)\n",
    "kmeans.fit(df)\n",
    "\n",
    "# Menampilkan nilai centroid yang di generate oleh algoritma\n",
    "print(kmeans.cluster_centers_)"
   ]
  },
  {
   "cell_type": "code",
   "execution_count": 8,
   "id": "353b64c3",
   "metadata": {},
   "outputs": [
    {
     "name": "stdout",
     "output_type": "stream",
     "text": [
      "1403\n",
      "[0 0 0 ... 2 0 2]\n"
     ]
    }
   ],
   "source": [
    "#Menampilkan label data point\n",
    "print(len(kmeans.labels_))\n",
    "print(kmeans.labels_)"
   ]
  },
  {
   "cell_type": "code",
   "execution_count": 9,
   "id": "4158ca19",
   "metadata": {},
   "outputs": [
    {
     "data": {
      "text/html": [
       "<div>\n",
       "<style scoped>\n",
       "    .dataframe tbody tr th:only-of-type {\n",
       "        vertical-align: middle;\n",
       "    }\n",
       "\n",
       "    .dataframe tbody tr th {\n",
       "        vertical-align: top;\n",
       "    }\n",
       "\n",
       "    .dataframe thead th {\n",
       "        text-align: right;\n",
       "    }\n",
       "</style>\n",
       "<table border=\"1\" class=\"dataframe\">\n",
       "  <thead>\n",
       "    <tr style=\"text-align: right;\">\n",
       "      <th></th>\n",
       "      <th>kluster</th>\n",
       "    </tr>\n",
       "  </thead>\n",
       "  <tbody>\n",
       "    <tr>\n",
       "      <th>0</th>\n",
       "      <td>0</td>\n",
       "    </tr>\n",
       "    <tr>\n",
       "      <th>1</th>\n",
       "      <td>0</td>\n",
       "    </tr>\n",
       "    <tr>\n",
       "      <th>2</th>\n",
       "      <td>0</td>\n",
       "    </tr>\n",
       "    <tr>\n",
       "      <th>3</th>\n",
       "      <td>0</td>\n",
       "    </tr>\n",
       "    <tr>\n",
       "      <th>4</th>\n",
       "      <td>0</td>\n",
       "    </tr>\n",
       "    <tr>\n",
       "      <th>...</th>\n",
       "      <td>...</td>\n",
       "    </tr>\n",
       "    <tr>\n",
       "      <th>1398</th>\n",
       "      <td>0</td>\n",
       "    </tr>\n",
       "    <tr>\n",
       "      <th>1399</th>\n",
       "      <td>0</td>\n",
       "    </tr>\n",
       "    <tr>\n",
       "      <th>1400</th>\n",
       "      <td>1</td>\n",
       "    </tr>\n",
       "    <tr>\n",
       "      <th>1401</th>\n",
       "      <td>0</td>\n",
       "    </tr>\n",
       "    <tr>\n",
       "      <th>1402</th>\n",
       "      <td>1</td>\n",
       "    </tr>\n",
       "  </tbody>\n",
       "</table>\n",
       "<p>1403 rows × 1 columns</p>\n",
       "</div>"
      ],
      "text/plain": [
       "      kluster\n",
       "0           0\n",
       "1           0\n",
       "2           0\n",
       "3           0\n",
       "4           0\n",
       "...       ...\n",
       "1398        0\n",
       "1399        0\n",
       "1400        1\n",
       "1401        0\n",
       "1402        1\n",
       "\n",
       "[1403 rows x 1 columns]"
      ]
     },
     "execution_count": 9,
     "metadata": {},
     "output_type": "execute_result"
    }
   ],
   "source": [
    "X = kmeans.fit_predict(df)\n",
    "dflabel = pd.DataFrame(X,columns=['kluster'])\n",
    "dflabel"
   ]
  },
  {
   "cell_type": "code",
   "execution_count": 10,
   "id": "da6198b6",
   "metadata": {},
   "outputs": [],
   "source": [
    "Y = pd.concat([df,dflabel], axis=1)"
   ]
  },
  {
   "cell_type": "code",
   "execution_count": 11,
   "id": "c4f4ed72",
   "metadata": {},
   "outputs": [
    {
     "data": {
      "text/plain": [
       "(1403, 5)"
      ]
     },
     "execution_count": 11,
     "metadata": {},
     "output_type": "execute_result"
    }
   ],
   "source": [
    "Y.shape"
   ]
  },
  {
   "cell_type": "code",
   "execution_count": 12,
   "id": "805c99fb",
   "metadata": {},
   "outputs": [
    {
     "data": {
      "text/html": [
       "<div>\n",
       "<style scoped>\n",
       "    .dataframe tbody tr th:only-of-type {\n",
       "        vertical-align: middle;\n",
       "    }\n",
       "\n",
       "    .dataframe tbody tr th {\n",
       "        vertical-align: top;\n",
       "    }\n",
       "\n",
       "    .dataframe thead th {\n",
       "        text-align: right;\n",
       "    }\n",
       "</style>\n",
       "<table border=\"1\" class=\"dataframe\">\n",
       "  <thead>\n",
       "    <tr style=\"text-align: right;\">\n",
       "      <th></th>\n",
       "      <th>Latitude</th>\n",
       "      <th>Longitude</th>\n",
       "      <th>Depth</th>\n",
       "      <th>Magnitude</th>\n",
       "      <th>kluster</th>\n",
       "    </tr>\n",
       "  </thead>\n",
       "  <tbody>\n",
       "    <tr>\n",
       "      <th>0</th>\n",
       "      <td>-7.555067</td>\n",
       "      <td>122.248034</td>\n",
       "      <td>12.193</td>\n",
       "      <td>7.3</td>\n",
       "      <td>0</td>\n",
       "    </tr>\n",
       "    <tr>\n",
       "      <th>1</th>\n",
       "      <td>-7.520367</td>\n",
       "      <td>122.276527</td>\n",
       "      <td>9.908</td>\n",
       "      <td>5.7</td>\n",
       "      <td>0</td>\n",
       "    </tr>\n",
       "    <tr>\n",
       "      <th>2</th>\n",
       "      <td>-7.661919</td>\n",
       "      <td>122.291383</td>\n",
       "      <td>12.201</td>\n",
       "      <td>5.8</td>\n",
       "      <td>0</td>\n",
       "    </tr>\n",
       "    <tr>\n",
       "      <th>3</th>\n",
       "      <td>-7.613724</td>\n",
       "      <td>121.543867</td>\n",
       "      <td>11.237</td>\n",
       "      <td>5.5</td>\n",
       "      <td>0</td>\n",
       "    </tr>\n",
       "    <tr>\n",
       "      <th>4</th>\n",
       "      <td>-7.781743</td>\n",
       "      <td>122.403823</td>\n",
       "      <td>9.906</td>\n",
       "      <td>5.5</td>\n",
       "      <td>0</td>\n",
       "    </tr>\n",
       "    <tr>\n",
       "      <th>...</th>\n",
       "      <td>...</td>\n",
       "      <td>...</td>\n",
       "      <td>...</td>\n",
       "      <td>...</td>\n",
       "      <td>...</td>\n",
       "    </tr>\n",
       "    <tr>\n",
       "      <th>1398</th>\n",
       "      <td>-7.942976</td>\n",
       "      <td>122.434714</td>\n",
       "      <td>10.945</td>\n",
       "      <td>2.6</td>\n",
       "      <td>0</td>\n",
       "    </tr>\n",
       "    <tr>\n",
       "      <th>1399</th>\n",
       "      <td>-7.522410</td>\n",
       "      <td>121.642042</td>\n",
       "      <td>11.715</td>\n",
       "      <td>2.6</td>\n",
       "      <td>0</td>\n",
       "    </tr>\n",
       "    <tr>\n",
       "      <th>1400</th>\n",
       "      <td>-8.067844</td>\n",
       "      <td>122.461982</td>\n",
       "      <td>5.669</td>\n",
       "      <td>2.2</td>\n",
       "      <td>1</td>\n",
       "    </tr>\n",
       "    <tr>\n",
       "      <th>1401</th>\n",
       "      <td>-7.765531</td>\n",
       "      <td>122.515053</td>\n",
       "      <td>12.037</td>\n",
       "      <td>2.5</td>\n",
       "      <td>0</td>\n",
       "    </tr>\n",
       "    <tr>\n",
       "      <th>1402</th>\n",
       "      <td>-7.546941</td>\n",
       "      <td>121.670558</td>\n",
       "      <td>8.745</td>\n",
       "      <td>2.0</td>\n",
       "      <td>1</td>\n",
       "    </tr>\n",
       "  </tbody>\n",
       "</table>\n",
       "<p>1403 rows × 5 columns</p>\n",
       "</div>"
      ],
      "text/plain": [
       "      Latitude   Longitude   Depth  Magnitude  kluster\n",
       "0    -7.555067  122.248034  12.193        7.3        0\n",
       "1    -7.520367  122.276527   9.908        5.7        0\n",
       "2    -7.661919  122.291383  12.201        5.8        0\n",
       "3    -7.613724  121.543867  11.237        5.5        0\n",
       "4    -7.781743  122.403823   9.906        5.5        0\n",
       "...        ...         ...     ...        ...      ...\n",
       "1398 -7.942976  122.434714  10.945        2.6        0\n",
       "1399 -7.522410  121.642042  11.715        2.6        0\n",
       "1400 -8.067844  122.461982   5.669        2.2        1\n",
       "1401 -7.765531  122.515053  12.037        2.5        0\n",
       "1402 -7.546941  121.670558   8.745        2.0        1\n",
       "\n",
       "[1403 rows x 5 columns]"
      ]
     },
     "execution_count": 12,
     "metadata": {},
     "output_type": "execute_result"
    }
   ],
   "source": [
    "Y"
   ]
  },
  {
   "cell_type": "code",
   "execution_count": 13,
   "id": "32889cfe",
   "metadata": {},
   "outputs": [
    {
     "data": {
      "text/plain": [
       "Latitude      -7.491503\n",
       "Longitude    122.096676\n",
       "Depth         12.212000\n",
       "Magnitude      2.700000\n",
       "kluster        0.000000\n",
       "Name: 300, dtype: float64"
      ]
     },
     "execution_count": 13,
     "metadata": {},
     "output_type": "execute_result"
    }
   ],
   "source": [
    "Y.iloc[300]"
   ]
  },
  {
   "cell_type": "code",
   "execution_count": 14,
   "id": "8806cff3",
   "metadata": {},
   "outputs": [],
   "source": [
    "Y.to_csv(\"hasil_kluster_data_lanjutan.csv\")"
   ]
  },
  {
   "cell_type": "code",
   "execution_count": 15,
   "id": "9f13c76a",
   "metadata": {},
   "outputs": [
    {
     "name": "stdout",
     "output_type": "stream",
     "text": [
      "[[ -7.555067 122.248034  12.193      7.3     ]\n",
      " [ -7.520367 122.276527   9.908      5.7     ]\n",
      " [ -7.661919 122.291383  12.201      5.8     ]\n",
      " ...\n",
      " [ -8.067844 122.461982   5.669      2.2     ]\n",
      " [ -7.765531 122.515053  12.037      2.5     ]\n",
      " [ -7.546941 121.670558   8.745      2.      ]]\n"
     ]
    }
   ],
   "source": [
    "X=Y.iloc[:,0:4].values\n",
    "print(X)"
   ]
  },
  {
   "cell_type": "code",
   "execution_count": 16,
   "id": "52ff718f",
   "metadata": {},
   "outputs": [
    {
     "name": "stdout",
     "output_type": "stream",
     "text": [
      "[0 0 0 ... 1 0 1]\n"
     ]
    }
   ],
   "source": [
    "y=Y.iloc[:,-1].values\n",
    "print(y)"
   ]
  },
  {
   "cell_type": "code",
   "execution_count": 17,
   "id": "003cc2a4",
   "metadata": {},
   "outputs": [
    {
     "name": "stdout",
     "output_type": "stream",
     "text": [
      "[[ -7.627983 121.921061  11.805      3.8     ]\n",
      " [ -7.647825 122.348401  11.811      3.6     ]\n",
      " [ -7.486285 121.594055  11.33       4.      ]\n",
      " [ -7.490711 121.617082  13.815      4.2     ]\n",
      " [ -7.205391 122.232964  10.63       3.5     ]\n",
      " [ -7.369999 121.22835   14.08       3.4     ]\n",
      " [ -7.579879 122.421495   9.773      3.6     ]\n",
      " [ -7.562879 122.321608  10.028      3.2     ]\n",
      " [ -7.381121 121.739144   7.831      3.4     ]\n",
      " [ -7.542362 121.780361  12.964      3.7     ]\n",
      " [ -7.849035 122.466928  12.347      3.5     ]\n",
      " [ -7.644486 122.434626  15.185      3.7     ]\n",
      " [ -7.814832 122.385087  18.113      3.3     ]\n",
      " [ -7.491662 122.212503   8.67       3.4     ]\n",
      " [ -7.16554  122.207811   7.405      3.4     ]\n",
      " [ -7.553416 122.367062  18.617      4.1     ]\n",
      " [ -7.537931 122.329331  14.523      4.4     ]\n",
      " [ -7.507145 121.770833  10.793      5.      ]\n",
      " [ -7.615661 122.38653   15.564      3.7     ]\n",
      " [ -7.410531 122.309274  10.551      3.6     ]\n",
      " [ -7.351871 121.250347  12.088      4.3     ]\n",
      " [ -7.663688 122.169103   5.189      3.3     ]\n",
      " [ -7.678427 122.388004   9.796      3.2     ]\n",
      " [ -7.7128   122.418257  10.096      3.3     ]\n",
      " [ -7.559657 121.678011  11.122      3.6     ]\n",
      " [ -7.59737  122.342295  10.748      3.5     ]\n",
      " [ -7.626876 122.504739  12.326      3.5     ]\n",
      " [ -7.500857 122.150818   9.761      3.9     ]\n",
      " [ -7.290099 121.557256  10.513      3.7     ]\n",
      " [ -7.494359 121.959112   8.257      3.3     ]\n",
      " [ -7.529141 121.57229   10.984      3.1     ]\n",
      " [ -7.520752 121.696534   9.701      3.2     ]\n",
      " [ -7.527215 121.87793   10.567      3.3     ]\n",
      " [ -7.790113 122.502715  15.362      3.6     ]\n",
      " [ -7.519868 121.51035    8.779      3.2     ]\n",
      " [ -7.718605 122.493493  12.518      3.      ]\n",
      " [ -7.204781 122.080502   7.609      3.2     ]\n",
      " [ -7.520911 122.25571   11.811      3.2     ]\n",
      " [ -7.585891 122.432468  13.235      3.      ]\n",
      " [ -7.581542 122.261132  21.437      3.7     ]\n",
      " [ -7.51735  122.2056    12.665      3.5     ]\n",
      " [ -7.544203 122.274868  17.104      3.4     ]\n",
      " [ -7.784013 122.515493  11.482      4.1     ]\n",
      " [ -7.556815 121.759528  16.146      4.2     ]\n",
      " [ -7.539834 121.707937   8.489      3.9     ]\n",
      " [ -7.764739 122.466264  11.956      3.1     ]\n",
      " [ -7.58501  122.071801  20.68       3.3     ]\n",
      " [ -7.524597 121.601912  17.393      3.5     ]\n",
      " [ -7.651872 122.435348  11.273      4.4     ]\n",
      " [ -7.611478 122.414146  13.127      5.4     ]\n",
      " [ -7.592084 122.400994  10.646      4.4     ]\n",
      " [ -7.664488 122.431018   8.812      3.4     ]\n",
      " [ -7.602837 122.374918  12.079      3.4     ]\n",
      " [ -7.532517 121.607173  12.77       3.4     ]\n",
      " [ -7.543249 122.540107   5.895      3.9     ]\n",
      " [ -7.592893 122.387741  11.455      3.3     ]\n",
      " [ -7.383158 121.948721   8.45       3.2     ]\n",
      " [ -7.696469 122.44875    7.216      3.2     ]\n",
      " [ -7.353089 121.096496   9.369      2.8     ]\n",
      " [ -7.036201 121.278867  15.354      2.1     ]\n",
      " [ -7.767364 122.513406   8.947      3.2     ]\n",
      " [ -7.347951 121.025333  10.624      2.7     ]\n",
      " [ -7.668008 122.150328   4.986      3.4     ]\n",
      " [ -7.574877 122.409479   8.969      3.      ]\n",
      " [ -7.564144 122.042856  11.2        3.      ]\n",
      " [ -7.464164 122.141888   8.777      3.5     ]\n",
      " [ -7.615646 122.411571  15.35       3.1     ]\n",
      " [ -7.668285 122.372637  12.223      3.      ]\n",
      " [ -7.391769 121.5214    10.319      3.1     ]\n",
      " [ -7.624894 122.433526  12.649      2.9     ]\n",
      " [ -7.494012 121.73718   12.637      3.7     ]\n",
      " [ -7.544791 122.181705  12.091      3.1     ]\n",
      " [ -7.527007 122.112562   9.1        3.3     ]\n",
      " [ -7.743046 122.418086  10.079      3.1     ]\n",
      " [ -7.725789 122.475375  10.187      3.1     ]\n",
      " [ -7.549558 121.553928  20.32       3.      ]\n",
      " [ -7.567389 121.633202  11.692      2.5     ]\n",
      " [ -7.34569  121.844225  15.237      2.6     ]\n",
      " [ -7.528815 121.893012   9.955      3.1     ]\n",
      " [ -7.485969 121.789248   8.692      3.1     ]]\n",
      "[0 0 0 2 0 2 0 0 1 0 0 2 2 1 1 2 2 0 2 0 0 1 0 0 0 0 0 0 0 1 0 0 0 2 1 0 1\n",
      " 0 0 2 0 2 0 2 1 0 2 2 0 0 0 1 0 0 1 0 1 1 1 2 1 0 1 1 0 1 2 0 0 0 0 0 1 0\n",
      " 0 2 0 2 0 1]\n"
     ]
    }
   ],
   "source": [
    "print(X[20:100])\n",
    "print(y[20:100])"
   ]
  },
  {
   "cell_type": "code",
   "execution_count": 18,
   "id": "ba053c59",
   "metadata": {},
   "outputs": [
    {
     "name": "stdout",
     "output_type": "stream",
     "text": [
      "[[ -7.627983 121.921061  11.805      3.8     ]\n",
      " [ -7.647825 122.348401  11.811      3.6     ]\n",
      " [ -7.486285 121.594055  11.33       4.      ]\n",
      " [ -7.490711 121.617082  13.815      4.2     ]\n",
      " [ -7.205391 122.232964  10.63       3.5     ]\n",
      " [ -7.369999 121.22835   14.08       3.4     ]\n",
      " [ -7.579879 122.421495   9.773      3.6     ]\n",
      " [ -7.562879 122.321608  10.028      3.2     ]\n",
      " [ -7.381121 121.739144   7.831      3.4     ]\n",
      " [ -7.542362 121.780361  12.964      3.7     ]\n",
      " [ -7.849035 122.466928  12.347      3.5     ]\n",
      " [ -7.644486 122.434626  15.185      3.7     ]\n",
      " [ -7.814832 122.385087  18.113      3.3     ]\n",
      " [ -7.491662 122.212503   8.67       3.4     ]\n",
      " [ -7.16554  122.207811   7.405      3.4     ]\n",
      " [ -7.553416 122.367062  18.617      4.1     ]\n",
      " [ -7.537931 122.329331  14.523      4.4     ]\n",
      " [ -7.507145 121.770833  10.793      5.      ]\n",
      " [ -7.615661 122.38653   15.564      3.7     ]\n",
      " [ -7.410531 122.309274  10.551      3.6     ]\n",
      " [ -7.351871 121.250347  12.088      4.3     ]\n",
      " [ -7.663688 122.169103   5.189      3.3     ]\n",
      " [ -7.678427 122.388004   9.796      3.2     ]\n",
      " [ -7.7128   122.418257  10.096      3.3     ]\n",
      " [ -7.559657 121.678011  11.122      3.6     ]\n",
      " [ -7.59737  122.342295  10.748      3.5     ]\n",
      " [ -7.626876 122.504739  12.326      3.5     ]\n",
      " [ -7.500857 122.150818   9.761      3.9     ]\n",
      " [ -7.290099 121.557256  10.513      3.7     ]\n",
      " [ -7.494359 121.959112   8.257      3.3     ]\n",
      " [ -7.529141 121.57229   10.984      3.1     ]\n",
      " [ -7.520752 121.696534   9.701      3.2     ]\n",
      " [ -7.527215 121.87793   10.567      3.3     ]\n",
      " [ -7.790113 122.502715  15.362      3.6     ]\n",
      " [ -7.519868 121.51035    8.779      3.2     ]\n",
      " [ -7.718605 122.493493  12.518      3.      ]\n",
      " [ -7.204781 122.080502   7.609      3.2     ]\n",
      " [ -7.520911 122.25571   11.811      3.2     ]\n",
      " [ -7.585891 122.432468  13.235      3.      ]\n",
      " [ -7.581542 122.261132  21.437      3.7     ]\n",
      " [ -7.51735  122.2056    12.665      3.5     ]\n",
      " [ -7.544203 122.274868  17.104      3.4     ]\n",
      " [ -7.784013 122.515493  11.482      4.1     ]\n",
      " [ -7.556815 121.759528  16.146      4.2     ]\n",
      " [ -7.539834 121.707937   8.489      3.9     ]\n",
      " [ -7.764739 122.466264  11.956      3.1     ]\n",
      " [ -7.58501  122.071801  20.68       3.3     ]\n",
      " [ -7.524597 121.601912  17.393      3.5     ]\n",
      " [ -7.651872 122.435348  11.273      4.4     ]\n",
      " [ -7.611478 122.414146  13.127      5.4     ]\n",
      " [ -7.592084 122.400994  10.646      4.4     ]\n",
      " [ -7.664488 122.431018   8.812      3.4     ]\n",
      " [ -7.602837 122.374918  12.079      3.4     ]\n",
      " [ -7.532517 121.607173  12.77       3.4     ]\n",
      " [ -7.543249 122.540107   5.895      3.9     ]\n",
      " [ -7.592893 122.387741  11.455      3.3     ]\n",
      " [ -7.383158 121.948721   8.45       3.2     ]\n",
      " [ -7.696469 122.44875    7.216      3.2     ]\n",
      " [ -7.353089 121.096496   9.369      2.8     ]\n",
      " [ -7.036201 121.278867  15.354      2.1     ]\n",
      " [ -7.767364 122.513406   8.947      3.2     ]\n",
      " [ -7.347951 121.025333  10.624      2.7     ]\n",
      " [ -7.668008 122.150328   4.986      3.4     ]\n",
      " [ -7.574877 122.409479   8.969      3.      ]\n",
      " [ -7.564144 122.042856  11.2        3.      ]\n",
      " [ -7.464164 122.141888   8.777      3.5     ]\n",
      " [ -7.615646 122.411571  15.35       3.1     ]\n",
      " [ -7.668285 122.372637  12.223      3.      ]\n",
      " [ -7.391769 121.5214    10.319      3.1     ]\n",
      " [ -7.624894 122.433526  12.649      2.9     ]\n",
      " [ -7.494012 121.73718   12.637      3.7     ]\n",
      " [ -7.544791 122.181705  12.091      3.1     ]\n",
      " [ -7.527007 122.112562   9.1        3.3     ]\n",
      " [ -7.743046 122.418086  10.079      3.1     ]\n",
      " [ -7.725789 122.475375  10.187      3.1     ]\n",
      " [ -7.549558 121.553928  20.32       3.      ]\n",
      " [ -7.567389 121.633202  11.692      2.5     ]\n",
      " [ -7.34569  121.844225  15.237      2.6     ]\n",
      " [ -7.528815 121.893012   9.955      3.1     ]\n",
      " [ -7.485969 121.789248   8.692      3.1     ]]\n",
      "[0 0 0 2 0 2 0 0 1 0 0 2 2 1 1 2 2 0 2 0 0 1 0 0 0 0 0 0 0 1 0 0 0 2 1 0 1\n",
      " 0 0 2 0 2 0 2 1 0 2 2 0 0 0 1 0 0 1 0 1 1 1 2 1 0 1 1 0 1 2 0 0 0 0 0 1 0\n",
      " 0 2 0 2 0 1]\n"
     ]
    }
   ],
   "source": [
    "print(X[20:100])\n",
    "print(y[20:100])"
   ]
  },
  {
   "cell_type": "code",
   "execution_count": 19,
   "id": "148837c4",
   "metadata": {},
   "outputs": [
    {
     "name": "stdout",
     "output_type": "stream",
     "text": [
      "(1403, 4)\n",
      "(1403,)\n"
     ]
    }
   ],
   "source": [
    "print(X.shape)\n",
    "print(y.shape)"
   ]
  },
  {
   "cell_type": "code",
   "execution_count": 20,
   "id": "01f090b8",
   "metadata": {},
   "outputs": [
    {
     "data": {
      "text/plain": [
       "array([[ -7.555067, 122.248034,  12.193   ,   7.3     ],\n",
       "       [ -7.520367, 122.276527,   9.908   ,   5.7     ],\n",
       "       [ -7.661919, 122.291383,  12.201   ,   5.8     ],\n",
       "       ...,\n",
       "       [ -8.067844, 122.461982,   5.669   ,   2.2     ],\n",
       "       [ -7.765531, 122.515053,  12.037   ,   2.5     ],\n",
       "       [ -7.546941, 121.670558,   8.745   ,   2.      ]])"
      ]
     },
     "execution_count": 20,
     "metadata": {},
     "output_type": "execute_result"
    }
   ],
   "source": [
    "X"
   ]
  },
  {
   "cell_type": "code",
   "execution_count": 21,
   "id": "be42ca1d",
   "metadata": {},
   "outputs": [
    {
     "data": {
      "text/plain": [
       "array([0, 0, 0, ..., 1, 0, 1], dtype=int32)"
      ]
     },
     "execution_count": 21,
     "metadata": {},
     "output_type": "execute_result"
    }
   ],
   "source": [
    "y"
   ]
  },
  {
   "cell_type": "code",
   "execution_count": 22,
   "id": "237b5cfd",
   "metadata": {},
   "outputs": [],
   "source": [
    "from sklearn.model_selection import train_test_split\n",
    "\n",
    "X_train, X_test, y_train, y_test = train_test_split(X, y, train_size = 0.7)"
   ]
  },
  {
   "cell_type": "code",
   "execution_count": 23,
   "id": "26e59a42",
   "metadata": {},
   "outputs": [
    {
     "name": "stdout",
     "output_type": "stream",
     "text": [
      "Banyak data latih setelah dilakukan Train-Validation Split:  982\n",
      "Banyak data uji setelah dilakukan Train-Validation Split:  421\n"
     ]
    }
   ],
   "source": [
    "print(\"Banyak data latih setelah dilakukan Train-Validation Split: \", len(X_train))\n",
    "print(\"Banyak data uji setelah dilakukan Train-Validation Split: \", len(X_test))"
   ]
  },
  {
   "cell_type": "markdown",
   "id": "15b7a140",
   "metadata": {},
   "source": [
    "# 1. K-Fold Cross Validation"
   ]
  },
  {
   "cell_type": "code",
   "execution_count": 24,
   "id": "7ccb921d",
   "metadata": {},
   "outputs": [
    {
     "name": "stdout",
     "output_type": "stream",
     "text": [
      "Akurasi model SVM untuk tiap fold:  [0.98576512 0.99288256 0.99644128 1.         0.99642857]\n",
      "Akurasi model SVM dengan 5-Fold Cross Validation:  0.9943035078800204\n"
     ]
    }
   ],
   "source": [
    "from sklearn.model_selection import cross_val_score\n",
    "from sklearn.svm import SVC\n",
    "\n",
    "model = SVC(kernel = 'linear', C = 1)\n",
    "scores = cross_val_score(model, X, y, cv = 5)\n",
    "print(\"Akurasi model SVM untuk tiap fold: \", scores)\n",
    "print(\"Akurasi model SVM dengan 5-Fold Cross Validation: \", scores.mean())"
   ]
  },
  {
   "cell_type": "markdown",
   "id": "683bc989",
   "metadata": {},
   "source": [
    "# 2. Metode Klasifikasi"
   ]
  },
  {
   "cell_type": "markdown",
   "id": "e496a759",
   "metadata": {},
   "source": [
    "# 2.1Logistic Regression"
   ]
  },
  {
   "cell_type": "code",
   "execution_count": 25,
   "id": "47c71d50",
   "metadata": {},
   "outputs": [
    {
     "name": "stdout",
     "output_type": "stream",
     "text": [
      "Akurasi dengan menggunakan Logistic Regression:  0.995249406175772\n"
     ]
    },
    {
     "name": "stderr",
     "output_type": "stream",
     "text": [
      "/Users/adijufriansah/miniforge3/lib/python3.9/site-packages/sklearn/linear_model/_logistic.py:444: ConvergenceWarning: lbfgs failed to converge (status=1):\n",
      "STOP: TOTAL NO. of ITERATIONS REACHED LIMIT.\n",
      "\n",
      "Increase the number of iterations (max_iter) or scale the data as shown in:\n",
      "    https://scikit-learn.org/stable/modules/preprocessing.html\n",
      "Please also refer to the documentation for alternative solver options:\n",
      "    https://scikit-learn.org/stable/modules/linear_model.html#logistic-regression\n",
      "  n_iter_i = _check_optimize_result(\n"
     ]
    }
   ],
   "source": [
    "from sklearn.linear_model import LogisticRegression\n",
    "from sklearn import metrics\n",
    "\n",
    "lr = LogisticRegression()\n",
    "\n",
    "lr.fit(X_train, y_train)\n",
    "y_pred = lr.predict(X_test)\n",
    "score = metrics.accuracy_score(y_test, y_pred)\n",
    "print(\"Akurasi dengan menggunakan Logistic Regression: \", score)"
   ]
  },
  {
   "cell_type": "markdown",
   "id": "9822b184",
   "metadata": {},
   "source": [
    "# 2.2 Support Vector Machine"
   ]
  },
  {
   "cell_type": "code",
   "execution_count": 26,
   "id": "6823b179",
   "metadata": {},
   "outputs": [
    {
     "name": "stdout",
     "output_type": "stream",
     "text": [
      "Akurasi dengan menggunakan Support Vector Machine:  0.9833729216152018\n"
     ]
    }
   ],
   "source": [
    "from sklearn.svm import SVC\n",
    "from sklearn import metrics\n",
    "\n",
    "svm = SVC(\n",
    "  kernel = 'rbf',\n",
    "  C = 1,\n",
    "  gamma = 0.01\n",
    ")\n",
    "\n",
    "svm.fit(X_train, y_train)\n",
    "y_pred = svm.predict(X_test)\n",
    "score = metrics.accuracy_score(y_test, y_pred)\n",
    "print(\"Akurasi dengan menggunakan Support Vector Machine: \", score)"
   ]
  },
  {
   "cell_type": "markdown",
   "id": "cb245570",
   "metadata": {},
   "source": [
    "2.2.1 Hyperparameter SVM"
   ]
  },
  {
   "cell_type": "code",
   "execution_count": 27,
   "id": "80030284",
   "metadata": {},
   "outputs": [
    {
     "name": "stdout",
     "output_type": "stream",
     "text": [
      "Akurasi dengan menggunakan Support Vector Machine Linear Kernel:  0.9928741092636579\n"
     ]
    }
   ],
   "source": [
    "# SVM dengan kernel Linear, nilai parameter C dapat diubah juga.\n",
    "svmLinear = SVC(\n",
    "  kernel = 'linear',\n",
    "  C = 1\n",
    ")\n",
    "\n",
    "svmLinear.fit(X_train, y_train)\n",
    "y_pred = svmLinear.predict(X_test)\n",
    "score = metrics.accuracy_score(y_test, y_pred)\n",
    "print(\"Akurasi dengan menggunakan Support Vector Machine Linear Kernel: \", score)"
   ]
  },
  {
   "cell_type": "code",
   "execution_count": 28,
   "id": "1226a201",
   "metadata": {},
   "outputs": [
    {
     "name": "stdout",
     "output_type": "stream",
     "text": [
      "Akurasi dengan menggunakan Support Vector Machine Polynomial Kernel:  0.9928741092636579\n"
     ]
    }
   ],
   "source": [
    "# SVM dengan kernel polynomial, nilai parameter C, degree, dan gamma dapat diubah juga.\n",
    "svmPoly = SVC(\n",
    "  kernel = 'poly',\n",
    "  C = 1,\n",
    "  gamma = 0.01,\n",
    "  degree = 2\n",
    ")\n",
    "\n",
    "svmPoly.fit(X_train, y_train)\n",
    "y_pred = svmPoly.predict(X_test)\n",
    "score = metrics.accuracy_score(y_test, y_pred)\n",
    "print(\"Akurasi dengan menggunakan Support Vector Machine Polynomial Kernel: \", score)"
   ]
  },
  {
   "cell_type": "code",
   "execution_count": 29,
   "id": "1033d0c9",
   "metadata": {},
   "outputs": [
    {
     "name": "stdout",
     "output_type": "stream",
     "text": [
      "Akurasi dengan menggunakan Support Vector Machine RBF Kernel:  0.9833729216152018\n"
     ]
    }
   ],
   "source": [
    "# SVM dengan kernel RBF, nilai parameter C dan gamma dapat diubah juga.\n",
    "svmRBF = SVC(\n",
    "  kernel = 'rbf',\n",
    "  C = 1,\n",
    "  gamma = 0.01,\n",
    ")\n",
    "\n",
    "svmRBF.fit(X_train, y_train)\n",
    "y_pred = svmRBF.predict(X_test)\n",
    "score = metrics.accuracy_score(y_test, y_pred)\n",
    "print(\"Akurasi dengan menggunakan Support Vector Machine RBF Kernel: \", score)"
   ]
  },
  {
   "cell_type": "markdown",
   "id": "e0304a5d",
   "metadata": {},
   "source": [
    "# 2.3 Decision Tree"
   ]
  },
  {
   "cell_type": "code",
   "execution_count": 30,
   "id": "9751b7cf",
   "metadata": {},
   "outputs": [
    {
     "name": "stdout",
     "output_type": "stream",
     "text": [
      "Akurasi dengan menggunakan Decision Tree:  1.0\n"
     ]
    }
   ],
   "source": [
    "from sklearn.tree import DecisionTreeClassifier\n",
    "from sklearn import metrics\n",
    "\n",
    "dt = DecisionTreeClassifier(\n",
    "  max_depth = None,\n",
    "  min_samples_split = 2\n",
    ")\n",
    "\n",
    "dt.fit(X_train, y_train)\n",
    "y_pred = dt.predict(X_test)\n",
    "score = metrics.accuracy_score(y_test, y_pred)\n",
    "print(\"Akurasi dengan menggunakan Decision Tree: \", score)"
   ]
  },
  {
   "cell_type": "markdown",
   "id": "109d2a24",
   "metadata": {},
   "source": [
    "2.3.1 Hyperparameter Decision Tree"
   ]
  },
  {
   "cell_type": "code",
   "execution_count": 31,
   "id": "13060a57",
   "metadata": {},
   "outputs": [
    {
     "name": "stdout",
     "output_type": "stream",
     "text": [
      "Akurasi dengan menggunakan Decision Tree:  0.8004750593824228\n"
     ]
    }
   ],
   "source": [
    "# Decision Tree dengan maximal kedalaman adalah 1 dan minimal jumlah sampel untuk dibentuk leaf baru adalah 2\n",
    "dt = DecisionTreeClassifier(\n",
    "  max_depth = 1,\n",
    "  min_samples_split = 2\n",
    ")\n",
    "\n",
    "dt.fit(X_train, y_train)\n",
    "y_pred = dt.predict(X_test)\n",
    "score = metrics.accuracy_score(y_test, y_pred)\n",
    "print(\"Akurasi dengan menggunakan Decision Tree: \", score)"
   ]
  },
  {
   "cell_type": "markdown",
   "id": "077d78e8",
   "metadata": {},
   "source": [
    "# 2.4 Naive Bayes"
   ]
  },
  {
   "cell_type": "code",
   "execution_count": 32,
   "id": "60aaa956",
   "metadata": {},
   "outputs": [
    {
     "name": "stdout",
     "output_type": "stream",
     "text": [
      "Akurasi dengan menggunakan Naive Bayes:  0.46080760095011875\n"
     ]
    }
   ],
   "source": [
    "from sklearn import naive_bayes\n",
    "from sklearn import metrics\n",
    "\n",
    "nb = naive_bayes.BernoulliNB()\n",
    "\n",
    "nb.fit(X_train, y_train)\n",
    "y_pred = nb.predict(X_test)\n",
    "score = metrics.accuracy_score(y_test, y_pred)\n",
    "print(\"Akurasi dengan menggunakan Naive Bayes: \", score)"
   ]
  },
  {
   "cell_type": "markdown",
   "id": "32cd4e13",
   "metadata": {},
   "source": [
    "# 2.5 K-Nearest Neighbors"
   ]
  },
  {
   "cell_type": "code",
   "execution_count": 33,
   "id": "a8cf40ce",
   "metadata": {},
   "outputs": [
    {
     "name": "stdout",
     "output_type": "stream",
     "text": [
      "Akurasi dengan menggunakan Nearest Neighbor:  0.9928741092636579\n"
     ]
    }
   ],
   "source": [
    "from sklearn.neighbors import KNeighborsClassifier\n",
    "from sklearn import metrics\n",
    "\n",
    "knn = KNeighborsClassifier()\n",
    "\n",
    "knn.fit(X_train, y_train)\n",
    "y_pred = knn.predict(X_test)\n",
    "score = metrics.accuracy_score(y_test, y_pred)\n",
    "print(\"Akurasi dengan menggunakan Nearest Neighbor: \", score)"
   ]
  },
  {
   "cell_type": "code",
   "execution_count": null,
   "id": "375df389",
   "metadata": {},
   "outputs": [],
   "source": []
  }
 ],
 "metadata": {
  "kernelspec": {
   "display_name": "Python 3 (ipykernel)",
   "language": "python",
   "name": "python3"
  },
  "language_info": {
   "codemirror_mode": {
    "name": "ipython",
    "version": 3
   },
   "file_extension": ".py",
   "mimetype": "text/x-python",
   "name": "python",
   "nbconvert_exporter": "python",
   "pygments_lexer": "ipython3",
   "version": "3.9.10"
  }
 },
 "nbformat": 4,
 "nbformat_minor": 5
}
